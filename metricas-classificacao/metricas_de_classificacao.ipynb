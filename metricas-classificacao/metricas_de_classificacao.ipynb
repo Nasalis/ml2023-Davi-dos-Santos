{
  "cells": [
    {
      "attachments": {},
      "cell_type": "markdown",
      "metadata": {
        "id": "K6BjdKxd50Vj"
      },
      "source": [
        "### Importanto bibliotecas "
      ]
    },
    {
      "cell_type": "code",
      "execution_count": 21,
      "metadata": {
        "id": "_HNF4GGVajfW"
      },
      "outputs": [],
      "source": [
        "import numpy as np\n",
        "import pandas as pd\n",
        "from sklearn.datasets import load_iris\n",
        "from sklearn.model_selection import train_test_split"
      ]
    },
    {
      "cell_type": "code",
      "execution_count": 22,
      "metadata": {
        "id": "rTzdRs2hat3J"
      },
      "outputs": [],
      "source": [
        "X, y = load_iris(return_X_y=True)"
      ]
    },
    {
      "attachments": {},
      "cell_type": "markdown",
      "metadata": {
        "id": "yjpPSi9X3zdt"
      },
      "source": [
        "### Verificando as labels"
      ]
    },
    {
      "cell_type": "code",
      "execution_count": 23,
      "metadata": {
        "colab": {
          "base_uri": "https://localhost:8080/"
        },
        "id": "IHmTdFaPizoO",
        "outputId": "16df7179-782e-470e-9493-dad02013bc5f"
      },
      "outputs": [
        {
          "data": {
            "text/plain": [
              "array([0, 0, 0, 0, 0, 0, 0, 0, 0, 0, 0, 0, 0, 0, 0, 0, 0, 0, 0, 0, 0, 0,\n",
              "       0, 0, 0, 0, 0, 0, 0, 0, 0, 0, 0, 0, 0, 0, 0, 0, 0, 0, 0, 0, 0, 0,\n",
              "       0, 0, 0, 0, 0, 0, 1, 1, 1, 1, 1, 1, 1, 1, 1, 1, 1, 1, 1, 1, 1, 1,\n",
              "       1, 1, 1, 1, 1, 1, 1, 1, 1, 1, 1, 1, 1, 1, 1, 1, 1, 1, 1, 1, 1, 1,\n",
              "       1, 1, 1, 1, 1, 1, 1, 1, 1, 1, 1, 1, 2, 2, 2, 2, 2, 2, 2, 2, 2, 2,\n",
              "       2, 2, 2, 2, 2, 2, 2, 2, 2, 2, 2, 2, 2, 2, 2, 2, 2, 2, 2, 2, 2, 2,\n",
              "       2, 2, 2, 2, 2, 2, 2, 2, 2, 2, 2, 2, 2, 2, 2, 2, 2, 2])"
            ]
          },
          "execution_count": 23,
          "metadata": {},
          "output_type": "execute_result"
        }
      ],
      "source": [
        "y"
      ]
    },
    {
      "cell_type": "code",
      "execution_count": 24,
      "metadata": {
        "colab": {
          "base_uri": "https://localhost:8080/"
        },
        "id": "fg6isxJEifNn",
        "outputId": "38c7ccc9-61cc-44d0-88dd-651750879f32"
      },
      "outputs": [
        {
          "data": {
            "text/plain": [
              "array(['setosa', 'versicolor', 'virginica'], dtype='<U10')"
            ]
          },
          "execution_count": 24,
          "metadata": {},
          "output_type": "execute_result"
        }
      ],
      "source": [
        "load_iris().target_names"
      ]
    },
    {
      "attachments": {},
      "cell_type": "markdown",
      "metadata": {
        "id": "c3QNjqbZ4qB9"
      },
      "source": [
        "### Separando os dados de treino e de teste"
      ]
    },
    {
      "cell_type": "code",
      "execution_count": 25,
      "metadata": {
        "id": "K8Fcpn5JbZMe"
      },
      "outputs": [],
      "source": [
        "X_train, X_test, y_train, y_test = train_test_split(X, y, test_size=0.9, train_size=0.1, stratify=y)"
      ]
    },
    {
      "attachments": {},
      "cell_type": "markdown",
      "metadata": {
        "id": "4vqCDDJm4wcQ"
      },
      "source": [
        "### Treinando o classificador Logistic Regression"
      ]
    },
    {
      "cell_type": "code",
      "execution_count": 26,
      "metadata": {
        "id": "zrvxw7OYdCOA"
      },
      "outputs": [],
      "source": [
        "from sklearn.linear_model import LogisticRegression"
      ]
    },
    {
      "cell_type": "code",
      "execution_count": 27,
      "metadata": {
        "id": "rHntKSrLdGOF"
      },
      "outputs": [],
      "source": [
        "classifier = LogisticRegression(random_state=0, multi_class='auto', solver='lbfgs').fit(X_train, y_train)"
      ]
    },
    {
      "cell_type": "code",
      "execution_count": 28,
      "metadata": {
        "id": "xnweof_JdfqE"
      },
      "outputs": [],
      "source": [
        "y_predicted = classifier.predict(X_test)"
      ]
    },
    {
      "attachments": {},
      "cell_type": "markdown",
      "metadata": {
        "id": "115dUOoI42xa"
      },
      "source": [
        "### Implementação das medidas de relatório "
      ]
    },
    {
      "cell_type": "code",
      "execution_count": 29,
      "metadata": {
        "id": "3MsJKdqWd5f9"
      },
      "outputs": [],
      "source": [
        "from sklearn.metrics import confusion_matrix, classification_report, roc_auc_score"
      ]
    },
    {
      "cell_type": "code",
      "execution_count": 30,
      "metadata": {
        "id": "7hNBFBDTxWKE"
      },
      "outputs": [],
      "source": [
        "def accuracy(y_predicted):\n",
        "  return np.sum(np.diagonal(y_predicted)) / np.sum(y_predicted)\n",
        "\n",
        "def precision(y_predicted):\n",
        "  return y_predicted[0, 0] / np.sum(y_predicted[:, 0])\n",
        "\n",
        "def recall(y_predicted):\n",
        "  return y_predicted[0, 0] / np.sum(y_predicted[0, :])\n",
        "\n",
        "def f1_measure(y_predicted):\n",
        "  precision_val = precision(y_predicted)\n",
        "  recall_val = recall(y_predicted)\n",
        "  return 2 * ((precision_val * recall_val) / (precision_val + recall_val))\n",
        "\n"
      ]
    },
    {
      "cell_type": "code",
      "execution_count": 31,
      "metadata": {
        "colab": {
          "base_uri": "https://localhost:8080/"
        },
        "id": "bZytuO-UeDLu",
        "outputId": "3024c325-8be3-4f6f-d7b0-dfa2c430e2a6"
      },
      "outputs": [
        {
          "data": {
            "text/plain": [
              "array([[45,  0,  0],\n",
              "       [ 0, 36,  9],\n",
              "       [ 0,  9, 36]])"
            ]
          },
          "execution_count": 31,
          "metadata": {},
          "output_type": "execute_result"
        }
      ],
      "source": [
        "confu_matrix = confusion_matrix(y_true=y_test, y_pred=y_predicted)\n",
        "confu_matrix"
      ]
    },
    {
      "cell_type": "code",
      "execution_count": 32,
      "metadata": {
        "colab": {
          "base_uri": "https://localhost:8080/"
        },
        "id": "8Q5uTujSfUMW",
        "outputId": "aa8826e5-1f93-4872-fc67-cb28f82b2be7"
      },
      "outputs": [
        {
          "name": "stdout",
          "output_type": "stream",
          "text": [
            "              precision    recall  f1-score   support\n",
            "\n",
            "           0       1.00      1.00      1.00        45\n",
            "           1       0.80      0.80      0.80        45\n",
            "           2       0.80      0.80      0.80        45\n",
            "\n",
            "    accuracy                           0.87       135\n",
            "   macro avg       0.87      0.87      0.87       135\n",
            "weighted avg       0.87      0.87      0.87       135\n",
            "\n"
          ]
        }
      ],
      "source": [
        "print(classification_report(y_test, y_predicted))"
      ]
    },
    {
      "cell_type": "code",
      "execution_count": 33,
      "metadata": {
        "colab": {
          "base_uri": "https://localhost:8080/"
        },
        "id": "XJHgJ53kyxVK",
        "outputId": "1193226b-94ce-4ade-c8e1-113bfeac4b41"
      },
      "outputs": [
        {
          "name": "stdout",
          "output_type": "stream",
          "text": [
            "Accuracy: 0.8666666666666667\n",
            "Precision: 1.0\n",
            "Recall: 1.0\n",
            "F1-score: 1.0\n"
          ]
        }
      ],
      "source": [
        "print(\"Accuracy:\", accuracy(confu_matrix))\n",
        "print(\"Precision:\", precision(confu_matrix))\n",
        "print(\"Recall:\", recall(confu_matrix))\n",
        "print(\"F1-score:\", f1_measure(confu_matrix))\n"
      ]
    },
    {
      "cell_type": "code",
      "execution_count": 34,
      "metadata": {
        "colab": {
          "base_uri": "https://localhost:8080/",
          "height": 430
        },
        "id": "cTaibFKt0CDf",
        "outputId": "2cdd4ac5-0b54-4193-c3e1-44e9dbf61100"
      },
      "outputs": [
        {
          "data": {
            "image/png": "[encoded data removed]",
            "text/plain": [
              "<Figure size 640x480 with 1 Axes>"
            ]
          },
          "metadata": {},
          "output_type": "display_data"
        }
      ],
      "source": [
        "import matplotlib.pyplot as plt\n",
        "fig, ax = plt.subplots()\n",
        "\n",
        "report_arr = [\n",
        "  accuracy(confu_matrix),\n",
        "  precision(confu_matrix),\n",
        "  recall(confu_matrix),\n",
        "  f1_measure(confu_matrix)\n",
        "]\n",
        "\n",
        "x_label = [\"Accuracy\", \"Precision\", \"Recall\", \"F1-Score\"]\n",
        "bar_colors = ['tab:red', 'tab:blue', 'tab:green', 'tab:orange']\n",
        "\n",
        "ax.bar(x_label, report_arr, label=x_label, color=bar_colors)\n",
        "plt.show()"
      ]
    },
    {
      "attachments": {},
      "cell_type": "markdown",
      "metadata": {
        "id": "A5sr9Gu-5CRO"
      },
      "source": [
        "### Desenhando a curva ROC para a classe iris-virginica"
      ]
    },
    {
      "cell_type": "code",
      "execution_count": 35,
      "metadata": {
        "id": "T-AyY4uRi4Kf"
      },
      "outputs": [],
      "source": [
        "y_score = classifier.predict_proba(X_test)"
      ]
    },
    {
      "cell_type": "code",
      "execution_count": 36,
      "metadata": {
        "colab": {
          "base_uri": "https://localhost:8080/"
        },
        "id": "SEbAQgoIkP_m",
        "outputId": "6271868f-ee5b-4660-d0ac-69f87784200c"
      },
      "outputs": [
        {
          "data": {
            "text/plain": [
              "(135, 3)"
            ]
          },
          "execution_count": 36,
          "metadata": {},
          "output_type": "execute_result"
        }
      ],
      "source": [
        "from sklearn.preprocessing import LabelBinarizer\n",
        "\n",
        "label_bin = LabelBinarizer().fit(y_train)\n",
        "y_onehot_test = label_bin.transform(y_test)\n",
        "y_onehot_test.shape"
      ]
    },
    {
      "cell_type": "code",
      "execution_count": 37,
      "metadata": {
        "colab": {
          "base_uri": "https://localhost:8080/"
        },
        "id": "ZbvebTGuhueV",
        "outputId": "38d5bfb9-c359-42f2-da20-df4673d8d864"
      },
      "outputs": [
        {
          "data": {
            "text/plain": [
              "array([[0, 0, 1]])"
            ]
          },
          "execution_count": 37,
          "metadata": {},
          "output_type": "execute_result"
        }
      ],
      "source": [
        "# Selecionando apenas o conjunto virginica\n",
        "\n",
        "label_bin.transform([2])"
      ]
    },
    {
      "cell_type": "code",
      "execution_count": 38,
      "metadata": {
        "colab": {
          "base_uri": "https://localhost:8080/"
        },
        "id": "Dk_nLW84lzoP",
        "outputId": "f2bf6643-3b62-4637-8eab-f0dce1c61a90"
      },
      "outputs": [
        {
          "data": {
            "text/plain": [
              "2"
            ]
          },
          "execution_count": 38,
          "metadata": {},
          "output_type": "execute_result"
        }
      ],
      "source": [
        "class_of_interest = 2\n",
        "class_id = np.flatnonzero(label_bin.classes_ == class_of_interest)[0]\n",
        "class_id"
      ]
    },
    {
      "cell_type": "code",
      "execution_count": 39,
      "metadata": {
        "colab": {
          "base_uri": "https://localhost:8080/",
          "height": 493
        },
        "id": "f-jxFamRl00N",
        "outputId": "4e1807c4-11e7-4891-9dae-94340af33188"
      },
      "outputs": [
        {
          "data": {
            "image/png": "[encoded data removed]",
            "text/plain": [
              "<Figure size 640x480 with 1 Axes>"
            ]
          },
          "metadata": {},
          "output_type": "display_data"
        }
      ],
      "source": [
        "import matplotlib.pyplot as plt\n",
        "from sklearn.metrics import RocCurveDisplay\n",
        "\n",
        "RocCurveDisplay.from_predictions(\n",
        "    y_onehot_test[:, class_id],\n",
        "    y_score[:, class_id],\n",
        "    name=f\"{class_of_interest} vs restante\",\n",
        "    color=\"darkorange\",\n",
        ")\n",
        "plt.plot([0, 1], [0, 1], \"k--\", label=\"nível de chance (AUC = 0.5)\")\n",
        "plt.axis(\"square\")\n",
        "plt.xlabel(\"Taxa de Falso Positivo\")\n",
        "plt.ylabel(\"Taxa de Verdadeiro Positivo\")\n",
        "plt.title(\"Curva ROC:\\nVirginica vs (Setosa & Versicolor)\")\n",
        "plt.legend()\n",
        "plt.show()"
      ]
    },
    {
      "attachments": {},
      "cell_type": "markdown",
      "metadata": {
        "id": "ABgKb_XB5n8d"
      },
      "source": [
        "### Calculando a métrica AUC (Area Under Curve) para a classe virginica"
      ]
    },
    {
      "cell_type": "code",
      "execution_count": 40,
      "metadata": {
        "colab": {
          "base_uri": "https://localhost:8080/"
        },
        "id": "E98orSuCmb_A",
        "outputId": "f192d9c4-dee2-4c7e-f65b-d1e9e3a9a9a3"
      },
      "outputs": [
        {
          "data": {
            "text/plain": [
              "0.9763511659807956"
            ]
          },
          "execution_count": 40,
          "metadata": {},
          "output_type": "execute_result"
        }
      ],
      "source": [
        "micro_roc_auc_ovr = roc_auc_score(\n",
        "    y_test,\n",
        "    y_score,\n",
        "    multi_class=\"ovr\",\n",
        "    average=\"micro\",\n",
        ")\n",
        "\n",
        "micro_roc_auc_ovr"
      ]
    }
  ],
  "metadata": {
    "colab": {
      "provenance": []
    },
    "kernelspec": {
      "display_name": "Python 3",
      "name": "python3"
    },
    "language_info": {
      "codemirror_mode": {
        "name": "ipython",
        "version": 3
      },
      "file_extension": ".py",
      "mimetype": "text/x-python",
      "name": "python",
      "nbconvert_exporter": "python",
      "pygments_lexer": "ipython3",
      "version": "3.10.6"
    }
  },
  "nbformat": 4,
  "nbformat_minor": 0
}
